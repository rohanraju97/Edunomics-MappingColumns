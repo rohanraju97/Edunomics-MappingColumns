{
 "cells": [
  {
   "cell_type": "markdown",
   "metadata": {},
   "source": [
    "You need to make a desktop application used for mapping 2 column with few similarity using fuzzywuzzy or any other algorithm. \n",
    "\n",
    "https://docs.google.com/spreadsheets/d/1vzL8I-ZHRFwbbu0KdQOHWk1-hDRyocMra5YkxY-D4Zg/edit?usp=sharing\n",
    "\n",
    "It should consider following points . . ..\n",
    "SKU are stock keeping unit id . . . .with specific nomenclature from company - KKWD 300x600-06 PLAIN IVORY-P\n",
    "which means ( company id + dimension(numeric) + colour + extra feature ) \n",
    "\n",
    "\n",
    "1. You need to match the dimensions i.e. numeric value first \n",
    "2. then any other parameter with maximum possibility \n",
    "\n",
    "we expect the system developed by us is never going to have 100% accuracy but . . . a model with approx. 85% accuracy is well to do ...."
   ]
  },
  {
   "cell_type": "markdown",
   "metadata": {},
   "source": [
    "# PLEASE READ THIS!\n",
    "\n",
    "I tried to implement all this on a Desktop App. I used the Electron Framework because I am quite familiar with HTML, CSS and JavaScript, which is what Electron is based on. However, it turned out to be quite complex and unnecessary. I needed to learn fresh new APIs to deal with Electron. I am used to the regular Node.js APIs. Also, I wrote the entire searching script in Python. Integrating the python script into the Electron app was an added difficulty. I thought of porting the Python Script to JavaScript Code, but JS doesn't make use of some handy libraries that I used, like Pandas. All in all, I was unable to get the basic functionality up and running of a desktop app.\n",
    "\n",
    "I CAN DO IT VERY EASILY ON A WEB APP THOUGH!\n",
    "\n",
    "Also, I spent 70% of my 24hr time on figuiring out the Desktop App and getting it to work. The Python Script shown below didn't take very long."
   ]
  },
  {
   "cell_type": "code",
   "execution_count": 1,
   "metadata": {},
   "outputs": [],
   "source": [
    "import warnings\n",
    "warnings.filterwarnings('ignore')"
   ]
  },
  {
   "cell_type": "code",
   "execution_count": 2,
   "metadata": {},
   "outputs": [],
   "source": [
    "import pandas as pd\n",
    "import re"
   ]
  },
  {
   "cell_type": "code",
   "execution_count": 3,
   "metadata": {},
   "outputs": [],
   "source": [
    "# Saved the data given by you locally!\n",
    "\n",
    "df = pd.read_csv(\"Mapped sku - Sheet1.csv\")"
   ]
  },
  {
   "cell_type": "code",
   "execution_count": 4,
   "metadata": {},
   "outputs": [],
   "source": [
    "# Function to find the top most similar Company Descriptions for a Distributor Item Code.\n",
    "\n",
    "def similar_description(string):\n",
    "    pos_vals = []\n",
    "    numeric_val = 0\n",
    "    if len(string.split()) == 1:\n",
    "        ind = df['Distributor Item code'][df['Distributor Item code'] == string].index.tolist()[0]\n",
    "        return (df['Company Dscription'].loc[ind],1)\n",
    "    else:\n",
    "        string = string.lower()\n",
    "        tokens = string.split()\n",
    "        for i in tokens:\n",
    "            if (re.search(\"[0-9]+x[0-9]+\", i)):\n",
    "                numeric_val = i\n",
    "                tokens.remove(i)\n",
    "                new_num = numeric_val.split('x')[1] + \"x\" + numeric_val.split('x')[0]\n",
    "            else:\n",
    "                continue\n",
    "        \n",
    "        for i in df['Company Dscription']:\n",
    "            if (numeric_val) and (numeric_val in i.lower() or new_num in i.lower()):\n",
    "                pos_vals.append(i.lower())\n",
    "        scores = []\n",
    "        if len(pos_vals) == 0:\n",
    "            pos_vals = df['Company Dscription']\n",
    "        for i in pos_vals:\n",
    "            score = 0\n",
    "            for j in tokens:\n",
    "                if j in i.lower():\n",
    "                    score += 1\n",
    "            scores.append(score)\n",
    "        max_score = max(scores)\n",
    "        pos_results = []\n",
    "        for i,j in enumerate(scores):\n",
    "            if j == max_score:\n",
    "                pos_results.append(pos_vals[i])\n",
    "        return pos_results, len(pos_results)\n",
    "    \n",
    "# Returns list of possible values."
   ]
  },
  {
   "cell_type": "code",
   "execution_count": 5,
   "metadata": {},
   "outputs": [
    {
     "data": {
      "text/plain": [
       "(['dfe 300x300-8(12mm) dg cementina c gy-p',\n",
       "  'dfe 300x300-8(12mm) dg cementina c gy-e',\n",
       "  'dfe 300x300-8(12mm) dg cementina c gy-r'],\n",
       " 3)"
      ]
     },
     "execution_count": 5,
     "metadata": {},
     "output_type": "execute_result"
    }
   ],
   "source": [
    "# Enter a Distributor Item Code:\n",
    "similar_description(\"Cementina GY 300x300\")"
   ]
  },
  {
   "cell_type": "code",
   "execution_count": null,
   "metadata": {},
   "outputs": [],
   "source": []
  }
 ],
 "metadata": {
  "kernelspec": {
   "display_name": "Python 3",
   "language": "python",
   "name": "python3"
  },
  "language_info": {
   "codemirror_mode": {
    "name": "ipython",
    "version": 3
   },
   "file_extension": ".py",
   "mimetype": "text/x-python",
   "name": "python",
   "nbconvert_exporter": "python",
   "pygments_lexer": "ipython3",
   "version": "3.6.5"
  }
 },
 "nbformat": 4,
 "nbformat_minor": 2
}
